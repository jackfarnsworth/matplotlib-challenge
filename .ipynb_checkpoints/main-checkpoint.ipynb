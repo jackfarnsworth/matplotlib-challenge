{
 "cells": [
  {
   "cell_type": "markdown",
   "metadata": {},
   "source": [
    "## Analysis\n",
    "Three brief observations from the data below.\n",
    "\n",
    "#### A breakdown of promising figures from the Capomulin and Ramicane\n",
    "The analysis as requested is severely lacking for reasons I will get into below, but despite results that are in many ways murky, Capomulin and Ramicane still stand out as outliers.\n",
    "\n",
    "First the relatively large number of measurements acquired in and of itself suggest the mice receiving these treatments lived longer than mice receiving other treatments. This in and of itself would be somewhat promising, but when compared to the final tumor size of other promising treatments we see they also show an extreme decrease in tumor volume. Ramicane's and Capomulin's final tumor volume are about 60% of the size of Infubinol and Ceftamin! That certainly has enough statiscal significance to warrant further study. However, there are serious concerns for Capomulin that must be looked into.\n",
    "\n",
    "#### Capomulin's concerning final figures\n",
    "Included below is an analysis of mine that show's Capomulin's longterm effectiveness is in question. When reviewing the data a large number of Capomulin's mice saw an increase in the final size of their tumor when compared to the second to last measurement. Printing out the cumulative results is shocking:\n",
    "<table border=\"1\" class=\"dataframe\">\n",
    "  <thead>\n",
    "    <tr style=\"text-align: left;\">\n",
    "      <th></th>\n",
    "      <th>Capomulin</th>\n",
    "      <th>Ramicane</th>\n",
    "    </tr>\n",
    "  </thead>\n",
    "  <tbody>\n",
    "    <tr>\n",
    "      <th>Percent Increasing</th>\n",
    "      <td>0.72</td>\n",
    "      <td>0.36</td>\n",
    "    </tr>\n",
    "  </tbody>\n",
    "</table>\n",
    "Note this does not even account for cases where the increase began at some earlier timepoint and the final datapoint experienced a statistically insignificant dip! Ramicane shows the majority still decreasing at the final point of the study. A longer term study must be done to ensure that this increase isn't permanent and the effects of Capomulin ultimately prove ephemeral.\n",
    "\n",
    "#### Problems with the analysis\n",
    "Ultimately, this analysis is lacking in several key ways, but one in particular: an analysis of the placebo was not included alongside our later analyses making observations literally baseless. Without an understanding of the stistical difference between Ramicane, Capomulin, and the placebo it is extremely difficult to draw reasonable conclusions on their effectiveness, and our analysis is rendered largely meaningless. Our samples simply are not large enough (24/25 mice per drug regimen) to tell at a glance whether the extreme performance of Capomulin or Ramicane has statistical significance. Considering the breadth of drugs tested it would be unsurprising to have one or two well performing groups even if ALL were treated with placebos.\n"
   ]
  },
  {
   "cell_type": "code",
   "execution_count": 93,
   "metadata": {},
   "outputs": [],
   "source": [
    "import matplotlib.pyplot as plt\n",
    "import pandas as pd\n",
    "import scipy.stats as st\n"
   ]
  },
  {
   "cell_type": "code",
   "execution_count": 2,
   "metadata": {},
   "outputs": [
    {
     "data": {
      "text/plain": [
       "249"
      ]
     },
     "execution_count": 2,
     "metadata": {},
     "output_type": "execute_result"
    }
   ],
   "source": [
    "#data initialization\n",
    "mouse_metadata_path = 'data/Mouse_metadata.csv'\n",
    "study_results_path = 'data/Study_results.csv'\n",
    "\n",
    "mouse_metadata = pd.read_csv(mouse_metadata_path)\n",
    "study_results = pd.read_csv(study_results_path)\n",
    "data = pd.merge(study_results, mouse_metadata, on='Mouse ID', how='outer')\n",
    "data['Mouse ID'].nunique()"
   ]
  },
  {
   "cell_type": "code",
   "execution_count": 4,
   "metadata": {},
   "outputs": [
    {
     "data": {
      "text/html": [
       "<div>\n",
       "<style scoped>\n",
       "    .dataframe tbody tr th:only-of-type {\n",
       "        vertical-align: middle;\n",
       "    }\n",
       "\n",
       "    .dataframe tbody tr th {\n",
       "        vertical-align: top;\n",
       "    }\n",
       "\n",
       "    .dataframe thead th {\n",
       "        text-align: right;\n",
       "    }\n",
       "</style>\n",
       "<table border=\"1\" class=\"dataframe\">\n",
       "  <thead>\n",
       "    <tr style=\"text-align: right;\">\n",
       "      <th></th>\n",
       "      <th>Mouse ID</th>\n",
       "      <th>Timepoint</th>\n",
       "      <th>Tumor Volume (mm3)</th>\n",
       "      <th>Metastatic Sites</th>\n",
       "      <th>Drug Regimen</th>\n",
       "      <th>Sex</th>\n",
       "      <th>Age_months</th>\n",
       "      <th>Weight (g)</th>\n",
       "    </tr>\n",
       "  </thead>\n",
       "  <tbody>\n",
       "    <tr>\n",
       "      <th>860</th>\n",
       "      <td>g989</td>\n",
       "      <td>0</td>\n",
       "      <td>45.000000</td>\n",
       "      <td>0</td>\n",
       "      <td>Propriva</td>\n",
       "      <td>Female</td>\n",
       "      <td>21</td>\n",
       "      <td>26</td>\n",
       "    </tr>\n",
       "    <tr>\n",
       "      <th>861</th>\n",
       "      <td>g989</td>\n",
       "      <td>0</td>\n",
       "      <td>45.000000</td>\n",
       "      <td>0</td>\n",
       "      <td>Propriva</td>\n",
       "      <td>Female</td>\n",
       "      <td>21</td>\n",
       "      <td>26</td>\n",
       "    </tr>\n",
       "    <tr>\n",
       "      <th>862</th>\n",
       "      <td>g989</td>\n",
       "      <td>5</td>\n",
       "      <td>48.786801</td>\n",
       "      <td>0</td>\n",
       "      <td>Propriva</td>\n",
       "      <td>Female</td>\n",
       "      <td>21</td>\n",
       "      <td>26</td>\n",
       "    </tr>\n",
       "    <tr>\n",
       "      <th>863</th>\n",
       "      <td>g989</td>\n",
       "      <td>5</td>\n",
       "      <td>47.570392</td>\n",
       "      <td>0</td>\n",
       "      <td>Propriva</td>\n",
       "      <td>Female</td>\n",
       "      <td>21</td>\n",
       "      <td>26</td>\n",
       "    </tr>\n",
       "    <tr>\n",
       "      <th>864</th>\n",
       "      <td>g989</td>\n",
       "      <td>10</td>\n",
       "      <td>51.745156</td>\n",
       "      <td>0</td>\n",
       "      <td>Propriva</td>\n",
       "      <td>Female</td>\n",
       "      <td>21</td>\n",
       "      <td>26</td>\n",
       "    </tr>\n",
       "    <tr>\n",
       "      <th>865</th>\n",
       "      <td>g989</td>\n",
       "      <td>10</td>\n",
       "      <td>49.880528</td>\n",
       "      <td>0</td>\n",
       "      <td>Propriva</td>\n",
       "      <td>Female</td>\n",
       "      <td>21</td>\n",
       "      <td>26</td>\n",
       "    </tr>\n",
       "    <tr>\n",
       "      <th>866</th>\n",
       "      <td>g989</td>\n",
       "      <td>15</td>\n",
       "      <td>51.325852</td>\n",
       "      <td>1</td>\n",
       "      <td>Propriva</td>\n",
       "      <td>Female</td>\n",
       "      <td>21</td>\n",
       "      <td>26</td>\n",
       "    </tr>\n",
       "    <tr>\n",
       "      <th>867</th>\n",
       "      <td>g989</td>\n",
       "      <td>15</td>\n",
       "      <td>53.442020</td>\n",
       "      <td>0</td>\n",
       "      <td>Propriva</td>\n",
       "      <td>Female</td>\n",
       "      <td>21</td>\n",
       "      <td>26</td>\n",
       "    </tr>\n",
       "    <tr>\n",
       "      <th>868</th>\n",
       "      <td>g989</td>\n",
       "      <td>20</td>\n",
       "      <td>55.326122</td>\n",
       "      <td>1</td>\n",
       "      <td>Propriva</td>\n",
       "      <td>Female</td>\n",
       "      <td>21</td>\n",
       "      <td>26</td>\n",
       "    </tr>\n",
       "    <tr>\n",
       "      <th>869</th>\n",
       "      <td>g989</td>\n",
       "      <td>20</td>\n",
       "      <td>54.657650</td>\n",
       "      <td>1</td>\n",
       "      <td>Propriva</td>\n",
       "      <td>Female</td>\n",
       "      <td>21</td>\n",
       "      <td>26</td>\n",
       "    </tr>\n",
       "    <tr>\n",
       "      <th>870</th>\n",
       "      <td>g989</td>\n",
       "      <td>25</td>\n",
       "      <td>56.045564</td>\n",
       "      <td>1</td>\n",
       "      <td>Propriva</td>\n",
       "      <td>Female</td>\n",
       "      <td>21</td>\n",
       "      <td>26</td>\n",
       "    </tr>\n",
       "    <tr>\n",
       "      <th>871</th>\n",
       "      <td>g989</td>\n",
       "      <td>30</td>\n",
       "      <td>59.082294</td>\n",
       "      <td>1</td>\n",
       "      <td>Propriva</td>\n",
       "      <td>Female</td>\n",
       "      <td>21</td>\n",
       "      <td>26</td>\n",
       "    </tr>\n",
       "    <tr>\n",
       "      <th>872</th>\n",
       "      <td>g989</td>\n",
       "      <td>35</td>\n",
       "      <td>62.570880</td>\n",
       "      <td>2</td>\n",
       "      <td>Propriva</td>\n",
       "      <td>Female</td>\n",
       "      <td>21</td>\n",
       "      <td>26</td>\n",
       "    </tr>\n",
       "  </tbody>\n",
       "</table>\n",
       "</div>"
      ],
      "text/plain": [
       "    Mouse ID  Timepoint  Tumor Volume (mm3)  Metastatic Sites Drug Regimen  \\\n",
       "860     g989          0           45.000000                 0     Propriva   \n",
       "861     g989          0           45.000000                 0     Propriva   \n",
       "862     g989          5           48.786801                 0     Propriva   \n",
       "863     g989          5           47.570392                 0     Propriva   \n",
       "864     g989         10           51.745156                 0     Propriva   \n",
       "865     g989         10           49.880528                 0     Propriva   \n",
       "866     g989         15           51.325852                 1     Propriva   \n",
       "867     g989         15           53.442020                 0     Propriva   \n",
       "868     g989         20           55.326122                 1     Propriva   \n",
       "869     g989         20           54.657650                 1     Propriva   \n",
       "870     g989         25           56.045564                 1     Propriva   \n",
       "871     g989         30           59.082294                 1     Propriva   \n",
       "872     g989         35           62.570880                 2     Propriva   \n",
       "\n",
       "        Sex  Age_months  Weight (g)  \n",
       "860  Female          21          26  \n",
       "861  Female          21          26  \n",
       "862  Female          21          26  \n",
       "863  Female          21          26  \n",
       "864  Female          21          26  \n",
       "865  Female          21          26  \n",
       "866  Female          21          26  \n",
       "867  Female          21          26  \n",
       "868  Female          21          26  \n",
       "869  Female          21          26  \n",
       "870  Female          21          26  \n",
       "871  Female          21          26  \n",
       "872  Female          21          26  "
      ]
     },
     "execution_count": 4,
     "metadata": {},
     "output_type": "execute_result"
    }
   ],
   "source": [
    "#grouping by mouse id and timepoint then locating all with value greater than 1\n",
    "tps = data.groupby(['Mouse ID'])['Timepoint'].value_counts().loc[lambda x : x > 1]\n",
    "#looping through indexes to get ids then putting them in a set to only have each entry once\n",
    "duplicates = {i[0] for i in (tps.index)}\n",
    "data.loc[data['Mouse ID'].isin(duplicates)]"
   ]
  },
  {
   "cell_type": "code",
   "execution_count": 5,
   "metadata": {},
   "outputs": [],
   "source": [
    "#using that set of duplicates to get indices and drop rows\n",
    "data.drop(data.index[data['Mouse ID'].isin(duplicates)], inplace = True)\n",
    "data.reset_index(inplace = True)\n"
   ]
  },
  {
   "cell_type": "code",
   "execution_count": 29,
   "metadata": {},
   "outputs": [
    {
     "data": {
      "text/html": [
       "<div>\n",
       "<style scoped>\n",
       "    .dataframe tbody tr th:only-of-type {\n",
       "        vertical-align: middle;\n",
       "    }\n",
       "\n",
       "    .dataframe tbody tr th {\n",
       "        vertical-align: top;\n",
       "    }\n",
       "\n",
       "    .dataframe thead th {\n",
       "        text-align: right;\n",
       "    }\n",
       "</style>\n",
       "<table border=\"1\" class=\"dataframe\">\n",
       "  <thead>\n",
       "    <tr style=\"text-align: right;\">\n",
       "      <th></th>\n",
       "      <th>Volume Mean</th>\n",
       "      <th>Volume Median</th>\n",
       "      <th>Volume Variance</th>\n",
       "      <th>Volume Standard Deviation</th>\n",
       "      <th>Volume Standard Error</th>\n",
       "    </tr>\n",
       "    <tr>\n",
       "      <th>Drug Regimen</th>\n",
       "      <th></th>\n",
       "      <th></th>\n",
       "      <th></th>\n",
       "      <th></th>\n",
       "      <th></th>\n",
       "    </tr>\n",
       "  </thead>\n",
       "  <tbody>\n",
       "    <tr>\n",
       "      <th>Capomulin</th>\n",
       "      <td>40.675741</td>\n",
       "      <td>41.557809</td>\n",
       "      <td>24.947764</td>\n",
       "      <td>4.994774</td>\n",
       "      <td>0.329346</td>\n",
       "    </tr>\n",
       "    <tr>\n",
       "      <th>Ceftamin</th>\n",
       "      <td>52.591172</td>\n",
       "      <td>51.776157</td>\n",
       "      <td>39.290177</td>\n",
       "      <td>6.268188</td>\n",
       "      <td>0.469821</td>\n",
       "    </tr>\n",
       "    <tr>\n",
       "      <th>Infubinol</th>\n",
       "      <td>52.884795</td>\n",
       "      <td>51.820584</td>\n",
       "      <td>43.128684</td>\n",
       "      <td>6.567243</td>\n",
       "      <td>0.492236</td>\n",
       "    </tr>\n",
       "    <tr>\n",
       "      <th>Ketapril</th>\n",
       "      <td>55.235638</td>\n",
       "      <td>53.698743</td>\n",
       "      <td>68.553577</td>\n",
       "      <td>8.279709</td>\n",
       "      <td>0.603860</td>\n",
       "    </tr>\n",
       "    <tr>\n",
       "      <th>Naftisol</th>\n",
       "      <td>54.331565</td>\n",
       "      <td>52.509285</td>\n",
       "      <td>66.173479</td>\n",
       "      <td>8.134708</td>\n",
       "      <td>0.596466</td>\n",
       "    </tr>\n",
       "    <tr>\n",
       "      <th>Placebo</th>\n",
       "      <td>54.033581</td>\n",
       "      <td>52.288934</td>\n",
       "      <td>61.168083</td>\n",
       "      <td>7.821003</td>\n",
       "      <td>0.581331</td>\n",
       "    </tr>\n",
       "    <tr>\n",
       "      <th>Propriva</th>\n",
       "      <td>52.320930</td>\n",
       "      <td>50.446266</td>\n",
       "      <td>43.852013</td>\n",
       "      <td>6.622085</td>\n",
       "      <td>0.544332</td>\n",
       "    </tr>\n",
       "    <tr>\n",
       "      <th>Ramicane</th>\n",
       "      <td>40.216745</td>\n",
       "      <td>40.673236</td>\n",
       "      <td>23.486704</td>\n",
       "      <td>4.846308</td>\n",
       "      <td>0.320955</td>\n",
       "    </tr>\n",
       "    <tr>\n",
       "      <th>Stelasyn</th>\n",
       "      <td>54.233149</td>\n",
       "      <td>52.431737</td>\n",
       "      <td>59.450562</td>\n",
       "      <td>7.710419</td>\n",
       "      <td>0.573111</td>\n",
       "    </tr>\n",
       "    <tr>\n",
       "      <th>Zoniferol</th>\n",
       "      <td>53.236507</td>\n",
       "      <td>51.818479</td>\n",
       "      <td>48.533355</td>\n",
       "      <td>6.966589</td>\n",
       "      <td>0.516398</td>\n",
       "    </tr>\n",
       "  </tbody>\n",
       "</table>\n",
       "</div>"
      ],
      "text/plain": [
       "              Volume Mean  Volume Median  Volume Variance  \\\n",
       "Drug Regimen                                                \n",
       "Capomulin       40.675741      41.557809        24.947764   \n",
       "Ceftamin        52.591172      51.776157        39.290177   \n",
       "Infubinol       52.884795      51.820584        43.128684   \n",
       "Ketapril        55.235638      53.698743        68.553577   \n",
       "Naftisol        54.331565      52.509285        66.173479   \n",
       "Placebo         54.033581      52.288934        61.168083   \n",
       "Propriva        52.320930      50.446266        43.852013   \n",
       "Ramicane        40.216745      40.673236        23.486704   \n",
       "Stelasyn        54.233149      52.431737        59.450562   \n",
       "Zoniferol       53.236507      51.818479        48.533355   \n",
       "\n",
       "              Volume Standard Deviation  Volume Standard Error  \n",
       "Drug Regimen                                                    \n",
       "Capomulin                      4.994774               0.329346  \n",
       "Ceftamin                       6.268188               0.469821  \n",
       "Infubinol                      6.567243               0.492236  \n",
       "Ketapril                       8.279709               0.603860  \n",
       "Naftisol                       8.134708               0.596466  \n",
       "Placebo                        7.821003               0.581331  \n",
       "Propriva                       6.622085               0.544332  \n",
       "Ramicane                       4.846308               0.320955  \n",
       "Stelasyn                       7.710419               0.573111  \n",
       "Zoniferol                      6.966589               0.516398  "
      ]
     },
     "execution_count": 29,
     "metadata": {},
     "output_type": "execute_result"
    }
   ],
   "source": [
    "#first creating a groupby object, them concatting the stats I want all at once instead of merging one at a time\n",
    "tv_by_dr = data[['Drug Regimen','Tumor Volume (mm3)']].groupby('Drug Regimen')\n",
    "tv_summary = pd.concat([tv_by_dr.mean(),tv_by_dr.median(),tv_by_dr.var(),tv_by_dr.std(),tv_by_dr.sem()], axis = 1)\n",
    "tv_summary.columns = ['Volume Mean', 'Volume Median', 'Volume Variance', 'Volume Standard Deviation', 'Volume Standard Error']\n",
    "tv_summary"
   ]
  },
  {
   "cell_type": "code",
   "execution_count": 31,
   "metadata": {},
   "outputs": [
    {
     "data": {
      "text/html": [
       "<div>\n",
       "<style scoped>\n",
       "    .dataframe tbody tr th:only-of-type {\n",
       "        vertical-align: middle;\n",
       "    }\n",
       "\n",
       "    .dataframe tbody tr th {\n",
       "        vertical-align: top;\n",
       "    }\n",
       "\n",
       "    .dataframe thead th {\n",
       "        text-align: right;\n",
       "    }\n",
       "</style>\n",
       "<table border=\"1\" class=\"dataframe\">\n",
       "  <thead>\n",
       "    <tr style=\"text-align: right;\">\n",
       "      <th></th>\n",
       "      <th>Volume Mean</th>\n",
       "      <th>Volume Median</th>\n",
       "      <th>Volume Var</th>\n",
       "      <th>Volume Std</th>\n",
       "      <th>Volume Sem</th>\n",
       "    </tr>\n",
       "    <tr>\n",
       "      <th>Drug Regimen</th>\n",
       "      <th></th>\n",
       "      <th></th>\n",
       "      <th></th>\n",
       "      <th></th>\n",
       "      <th></th>\n",
       "    </tr>\n",
       "  </thead>\n",
       "  <tbody>\n",
       "    <tr>\n",
       "      <th>Capomulin</th>\n",
       "      <td>40.675741</td>\n",
       "      <td>41.557809</td>\n",
       "      <td>24.947764</td>\n",
       "      <td>4.994774</td>\n",
       "      <td>0.329346</td>\n",
       "    </tr>\n",
       "    <tr>\n",
       "      <th>Ceftamin</th>\n",
       "      <td>52.591172</td>\n",
       "      <td>51.776157</td>\n",
       "      <td>39.290177</td>\n",
       "      <td>6.268188</td>\n",
       "      <td>0.469821</td>\n",
       "    </tr>\n",
       "    <tr>\n",
       "      <th>Infubinol</th>\n",
       "      <td>52.884795</td>\n",
       "      <td>51.820584</td>\n",
       "      <td>43.128684</td>\n",
       "      <td>6.567243</td>\n",
       "      <td>0.492236</td>\n",
       "    </tr>\n",
       "    <tr>\n",
       "      <th>Ketapril</th>\n",
       "      <td>55.235638</td>\n",
       "      <td>53.698743</td>\n",
       "      <td>68.553577</td>\n",
       "      <td>8.279709</td>\n",
       "      <td>0.603860</td>\n",
       "    </tr>\n",
       "    <tr>\n",
       "      <th>Naftisol</th>\n",
       "      <td>54.331565</td>\n",
       "      <td>52.509285</td>\n",
       "      <td>66.173479</td>\n",
       "      <td>8.134708</td>\n",
       "      <td>0.596466</td>\n",
       "    </tr>\n",
       "    <tr>\n",
       "      <th>Placebo</th>\n",
       "      <td>54.033581</td>\n",
       "      <td>52.288934</td>\n",
       "      <td>61.168083</td>\n",
       "      <td>7.821003</td>\n",
       "      <td>0.581331</td>\n",
       "    </tr>\n",
       "    <tr>\n",
       "      <th>Propriva</th>\n",
       "      <td>52.320930</td>\n",
       "      <td>50.446266</td>\n",
       "      <td>43.852013</td>\n",
       "      <td>6.622085</td>\n",
       "      <td>0.544332</td>\n",
       "    </tr>\n",
       "    <tr>\n",
       "      <th>Ramicane</th>\n",
       "      <td>40.216745</td>\n",
       "      <td>40.673236</td>\n",
       "      <td>23.486704</td>\n",
       "      <td>4.846308</td>\n",
       "      <td>0.320955</td>\n",
       "    </tr>\n",
       "    <tr>\n",
       "      <th>Stelasyn</th>\n",
       "      <td>54.233149</td>\n",
       "      <td>52.431737</td>\n",
       "      <td>59.450562</td>\n",
       "      <td>7.710419</td>\n",
       "      <td>0.573111</td>\n",
       "    </tr>\n",
       "    <tr>\n",
       "      <th>Zoniferol</th>\n",
       "      <td>53.236507</td>\n",
       "      <td>51.818479</td>\n",
       "      <td>48.533355</td>\n",
       "      <td>6.966589</td>\n",
       "      <td>0.516398</td>\n",
       "    </tr>\n",
       "  </tbody>\n",
       "</table>\n",
       "</div>"
      ],
      "text/plain": [
       "              Volume Mean  Volume Median  Volume Var  Volume Std  Volume Sem\n",
       "Drug Regimen                                                                \n",
       "Capomulin       40.675741      41.557809   24.947764    4.994774    0.329346\n",
       "Ceftamin        52.591172      51.776157   39.290177    6.268188    0.469821\n",
       "Infubinol       52.884795      51.820584   43.128684    6.567243    0.492236\n",
       "Ketapril        55.235638      53.698743   68.553577    8.279709    0.603860\n",
       "Naftisol        54.331565      52.509285   66.173479    8.134708    0.596466\n",
       "Placebo         54.033581      52.288934   61.168083    7.821003    0.581331\n",
       "Propriva        52.320930      50.446266   43.852013    6.622085    0.544332\n",
       "Ramicane        40.216745      40.673236   23.486704    4.846308    0.320955\n",
       "Stelasyn        54.233149      52.431737   59.450562    7.710419    0.573111\n",
       "Zoniferol       53.236507      51.818479   48.533355    6.966589    0.516398"
      ]
     },
     "execution_count": 31,
     "metadata": {},
     "output_type": "execute_result"
    }
   ],
   "source": [
    "#Using agg instead\n",
    "tv_summary = tv_by_dr.agg(['mean', 'median', 'var', 'std', 'sem'])\n",
    "tv_summary.columns = [\"Volume \" + i[1].title() for i in tv_summary.columns]\n",
    "tv_summary"
   ]
  },
  {
   "cell_type": "code",
   "execution_count": 47,
   "metadata": {},
   "outputs": [
    {
     "data": {
      "image/png": "[encoded data removed]",
      "text/plain": [
       "<Figure size 432x288 with 1 Axes>"
      ]
     },
     "metadata": {
      "needs_background": "light"
     },
     "output_type": "display_data"
    }
   ],
   "source": [
    "#plotted with pandas.plot\n",
    "tp_by_dr = data[['Drug Regimen','Timepoint']].groupby('Drug Regimen').count() \\ \n",
    "                                             .sort_values(by = 'Timepoint', ascending = False)\n",
    "plt.ylabel(\"Number of Measurements Taken\")\n",
    "tp_by_dr['Timepoint'].plot(kind = 'bar')\n",
    "plt.show()\n",
    "\n"
   ]
  },
  {
   "cell_type": "code",
   "execution_count": 46,
   "metadata": {},
   "outputs": [
    {
     "data": {
      "image/png": "[encoded data removed]",
      "text/plain": [
       "<Figure size 432x288 with 1 Axes>"
      ]
     },
     "metadata": {
      "needs_background": "light"
     },
     "output_type": "display_data"
    }
   ],
   "source": [
    "#plotted with matplotlib with tweaks to exactly match above chart\n",
    "x_axis = [i for i in range(len(tp_by_dr.values))]\n",
    "timecounts = tp_by_dr.values[:,0]\n",
    "plt.bar(x_axis, timecounts, width = .5)\n",
    "plt.xticks(x_axis, tp_by_dr.index, rotation=90)\n",
    "plt.xlim(-0.5, len(x_axis)-0.5)\n",
    "plt.xlabel('Drug Regimen')\n",
    "plt.ylabel(\"Number of Measurements Taken\")\n",
    "plt.show()"
   ]
  },
  {
   "cell_type": "code",
   "execution_count": 17,
   "metadata": {},
   "outputs": [
    {
     "data": {
      "image/png": "[encoded data removed]",
      "text/plain": [
       "<Figure size 432x288 with 1 Axes>"
      ]
     },
     "metadata": {},
     "output_type": "display_data"
    }
   ],
   "source": [
    "#sex plotted with pandas.plot\n",
    "data['Sex'].value_counts().plot(kind = 'pie')\n",
    "plt.show()"
   ]
  },
  {
   "cell_type": "code",
   "execution_count": 18,
   "metadata": {},
   "outputs": [
    {
     "data": {
      "image/png": "[encoded data removed]",
      "text/plain": [
       "<Figure size 432x288 with 1 Axes>"
      ]
     },
     "metadata": {},
     "output_type": "display_data"
    }
   ],
   "source": [
    "#sex plotted with matplotlib\n",
    "plt.pie(data['Sex'].value_counts(), labels = data['Sex'].value_counts().index)\n",
    "plt.ylabel('Sex')\n",
    "plt.show()"
   ]
  },
  {
   "cell_type": "code",
   "execution_count": 20,
   "metadata": {},
   "outputs": [],
   "source": [
    "#groupby mouseid and get final tumor volume\n",
    "last_timepoint = data[['Mouse ID','Tumor Volume (mm3)']].groupby('Mouse ID').last()\n",
    "last_timepoint.reset_index(inplace = True)\n",
    "#create new simplified dataframe by merging left on last_timepoint, filtering out all other rows\n",
    "simple_df = pd.merge(last_timepoint, data, how = 'left', left_on = ['Mouse ID', 'Tumor Volume (mm3)'], right_on=['Mouse ID', 'Tumor Volume (mm3)'])\n"
   ]
  },
  {
   "cell_type": "code",
   "execution_count": 21,
   "metadata": {},
   "outputs": [],
   "source": [
    "#function to calculate qunatiles, iqr, upper and lower bounds and return potential outliers\n",
    "def getoutliers(x):\n",
    "    outliers = []\n",
    "    quant = x.quantile([.25,.5,.75])\n",
    "    iqr = quant[.75]-quant[.25]\n",
    "    for i in x:\n",
    "        if (i < quant[.25] - (1.5 * iqr)) or (i > quant[.75] + (1.5 * iqr)):\n",
    "            outliers.append(i)\n",
    "    return outliers\n",
    "    "
   ]
  },
  {
   "cell_type": "code",
   "execution_count": 53,
   "metadata": {},
   "outputs": [
    {
     "name": "stdout",
     "output_type": "stream",
     "text": [
      "No outliers detected for Capomulin\n",
      "No outliers detected for Ramicane\n",
      "Potential outliers for Infubinol: [36.321345799999996]\n",
      "No outliers detected for Ceftamin\n"
     ]
    }
   ],
   "source": [
    "good_drugs = ['Capomulin', 'Ramicane', 'Infubinol', 'Ceftamin']\n",
    "tumorvols = []\n",
    "#loop through drugs we want to test, append list of tumor volumes to tumorvols and pass to getoutliers\n",
    "#Appending to tumorvols makes boxplot easy\n",
    "for i in range(len(good_drugs)):\n",
    "    tumorvols.append(simple_df.loc[simple_df['Drug Regimen'] == good_drugs[i]]['Tumor Volume (mm3)'])\n",
    "    outliers = getoutliers(tumorvols[i])\n",
    "    if outliers:\n",
    "        print(f\"Potential outliers for {good_drugs[i]}: {outliers}\")\n",
    "    else:\n",
    "        print(f\"No outliers detected for {good_drugs[i]}\")"
   ]
  },
  {
   "cell_type": "code",
   "execution_count": 55,
   "metadata": {},
   "outputs": [
    {
     "data": {
      "image/png": "[encoded data removed]",
      "text/plain": [
       "<Figure size 432x288 with 1 Axes>"
      ]
     },
     "metadata": {
      "needs_background": "light"
     },
     "output_type": "display_data"
    }
   ],
   "source": [
    "#make boxplots for each drug regimen, use dictionary definition of redx to mark outliers,\n",
    "#reusing tumorvols array from above makes boxplot trivial\n",
    "fig, ax = plt.subplots()\n",
    "redx = {'markerfacecolor':'r', 'marker':'X', 'markersize':12}\n",
    "ax.boxplot(tumorvols, flierprops=redx)\n",
    "plt.xticks([1,2,3,4], ['Capomulin', 'Ramicane', 'Infubinol', 'Ceftamin'])\n",
    "ax.set_title(\"Final Tumor Volume by Drug\")\n",
    "ax.set_ylabel(\"Tumor Volumes\")\n",
    "plt.show()"
   ]
  },
  {
   "cell_type": "code",
   "execution_count": 57,
   "metadata": {
    "scrolled": true
   },
   "outputs": [
    {
     "data": {
      "image/png": "[encoded data removed]",
      "text/plain": [
       "<Figure size 432x288 with 1 Axes>"
      ]
     },
     "metadata": {
      "needs_background": "light"
     },
     "output_type": "display_data"
    }
   ],
   "source": [
    "#First filtering for Capomulin then grouping by Mouse ID and Timepoint\n",
    "data_by_mouse = data.loc[data['Drug Regimen'] == 'Capomulin'][['Mouse ID', 'Timepoint', 'Tumor Volume (mm3)']] \\\n",
    "                    .groupby(['Mouse ID', 'Timepoint']).sum()\n",
    "#again using set to filter out multiple instances of a given mouse id then converting to list to \n",
    "#be able to iterate through it\n",
    "mouse_ids = list({i[0] for i in data_by_mouse.index})\n",
    "\n",
    "#getmouse takes string or index number and returns series of tumorvols associated with that mouse\n",
    "def getmouse(x):\n",
    "    if type(x) == int:\n",
    "        if x > len(mouse_ids) or x < 0:\n",
    "            return None\n",
    "        return data_by_mouse.loc[mouse_ids[x]]\n",
    "    if type(x) == str:\n",
    "        if x not in mouse_ids:\n",
    "            return None\n",
    "        return data_by_mouse.loc[x]\n",
    "\n",
    "#doing for one mouse but you could loop through mice as well using getmouse\n",
    "getmouse('l509').plot(kind = 'line', title = 'l509')\n",
    "plt.show()"
   ]
  },
  {
   "cell_type": "code",
   "execution_count": 56,
   "metadata": {},
   "outputs": [],
   "source": [
    "#Getting series of weight by mouse then average tumorvol by mouse\n",
    "xaxis = data.loc[data['Drug Regimen'] == 'Capomulin'][['Mouse ID','Weight (g)']].groupby('Mouse ID').mean()['Weight (g)']\n",
    "yaxis = data.loc[data['Drug Regimen'] == 'Capomulin'][['Mouse ID','Tumor Volume (mm3)']].groupby('Mouse ID').mean()['Tumor Volume (mm3)']"
   ]
  },
  {
   "cell_type": "code",
   "execution_count": 89,
   "metadata": {
    "scrolled": true
   },
   "outputs": [
    {
     "data": {
      "image/png": "[encoded data removed]",
      "text/plain": [
       "<Figure size 432x288 with 1 Axes>"
      ]
     },
     "metadata": {
      "needs_background": "light"
     },
     "output_type": "display_data"
    }
   ],
   "source": [
    "#using weights and average tumor vol to make scatter plot\n",
    "fig2, ax2 = plt.subplots()\n",
    "ax2.set_xlabel('Weight (g)')\n",
    "ax2.set_ylabel('Tumor Volume (mm3)')\n",
    "ax2.set_title('Tumor Volume by Weight of Mouse')\n",
    "ax2.scatter(xaxis, yaxis)\n",
    "plt.show()"
   ]
  },
  {
   "cell_type": "code",
   "execution_count": 92,
   "metadata": {},
   "outputs": [
    {
     "data": {
      "image/png": "[encoded data removed]",
      "text/plain": [
       "<Figure size 432x288 with 1 Axes>"
      ]
     },
     "execution_count": 92,
     "metadata": {},
     "output_type": "execute_result"
    }
   ],
   "source": [
    "#Redoing scatter plot with linear regression showing\n",
    "(slope, intercept, rvalue, pvalue, stderr) = st.linregress(xaxis, yaxis)\n",
    "regression = xaxis * slope + intercept\n",
    "ax2.plot(xaxis, regression, \"r-\")\n",
    "fig2"
   ]
  },
  {
   "cell_type": "code",
   "execution_count": 112,
   "metadata": {
    "scrolled": true
   },
   "outputs": [
    {
     "data": {
      "text/html": [
       "<div>\n",
       "<style scoped>\n",
       "    .dataframe tbody tr th:only-of-type {\n",
       "        vertical-align: middle;\n",
       "    }\n",
       "\n",
       "    .dataframe tbody tr th {\n",
       "        vertical-align: top;\n",
       "    }\n",
       "\n",
       "    .dataframe thead th {\n",
       "        text-align: right;\n",
       "    }\n",
       "</style>\n",
       "<table border=\"1\" class=\"dataframe\">\n",
       "  <thead>\n",
       "    <tr style=\"text-align: right;\">\n",
       "      <th></th>\n",
       "      <th>Capomulin</th>\n",
       "      <th>Ramicane</th>\n",
       "    </tr>\n",
       "  </thead>\n",
       "  <tbody>\n",
       "    <tr>\n",
       "      <th>Percent Increasing</th>\n",
       "      <td>0.72</td>\n",
       "      <td>0.36</td>\n",
       "    </tr>\n",
       "  </tbody>\n",
       "</table>\n",
       "</div>"
      ],
      "text/plain": [
       "                    Capomulin  Ramicane\n",
       "Percent Increasing       0.72      0.36"
      ]
     },
     "execution_count": 112,
     "metadata": {},
     "output_type": "execute_result"
    }
   ],
   "source": [
    "#An additional anlysis from data I found concerning. This compares the tumor volume at the \n",
    "#second to last timepoint to the last timepoint for capomulin and returns the percent increasing\n",
    "#First filtering for Capomulin  and Ramicane then grouping by Mouse ID and Timepoint\n",
    "\n",
    "columns = ['Capomulin', 'Ramicane']\n",
    "percents = []\n",
    "\n",
    "for drug in columns:\n",
    "    up = 0\n",
    "    data_by_mouse = data.loc[data['Drug Regimen'] == drug][['Mouse ID', 'Timepoint', 'Tumor Volume (mm3)']] \\\n",
    "                    .groupby(['Mouse ID', 'Timepoint']).sum()\n",
    "    mouse_ids = list({i[0] for i in data_by_mouse.index})\n",
    "    for i in mouse_ids:\n",
    "        df = getmouse(i)\n",
    "        if df.iloc[-2]['Tumor Volume (mm3)'] < df.iloc[-1]['Tumor Volume (mm3)']:\n",
    "            up += 1\n",
    "    percents.append(up/len(mouse_ids))\n",
    "pd.DataFrame({columns[0] : percents[0], columns[1] : percents[1]}, index = ['Percent Increasing'])\n",
    "        \n"
   ]
  },
  {
   "cell_type": "code",
   "execution_count": null,
   "metadata": {},
   "outputs": [],
   "source": []
  }
 ],
 "metadata": {
  "kernelspec": {
   "display_name": "Python [conda env:pythondata] *",
   "language": "python",
   "name": "conda-env-pythondata-py"
  },
  "language_info": {
   "codemirror_mode": {
    "name": "ipython",
    "version": 3
   },
   "file_extension": ".py",
   "mimetype": "text/x-python",
   "name": "python",
   "nbconvert_exporter": "python",
   "pygments_lexer": "ipython3",
   "version": "3.6.10"
  }
 },
 "nbformat": 4,
 "nbformat_minor": 4
}
